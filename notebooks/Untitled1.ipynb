{
 "cells": [
  {
   "cell_type": "markdown",
   "id": "f7ef1775-d187-4df5-acce-4efaf43251df",
   "metadata": {},
   "source": [
    "## setup yolo [requires python >= 3.8]"
   ]
  },
  {
   "cell_type": "code",
   "execution_count": 2,
   "id": "f9f2b3fe-f6b9-4335-a6c5-64a9d17b35b0",
   "metadata": {
    "scrolled": true,
    "tags": []
   },
   "outputs": [
    {
     "name": "stdout",
     "output_type": "stream",
     "text": [
      "Python 3.8.12\n"
     ]
    }
   ],
   "source": [
    "!python --version"
   ]
  },
  {
   "cell_type": "code",
   "execution_count": 8,
   "id": "f4aa3345-bbaa-49a5-9dfb-57393f54794c",
   "metadata": {
    "collapsed": false,
    "jupyter": {
     "outputs_hidden": false
    },
    "scrolled": true
   },
   "outputs": [
    {
     "name": "stdout",
     "output_type": "stream",
     "text": [
      "/root/yolov8-sd\n"
     ]
    }
   ],
   "source": [
    "%cd /root/yolov8-sd/"
   ]
  },
  {
   "cell_type": "code",
   "execution_count": 9,
   "id": "6f75fdfd-c644-46bd-aabd-24abe08c4da8",
   "metadata": {
    "scrolled": true,
    "tags": []
   },
   "outputs": [
    {
     "name": "stdout",
     "output_type": "stream",
     "text": [
      "Looking in indexes: https://pypi.org/simple, https://pip.repos.neuron.amazonaws.com/, https://pypi.ngc.nvidia.com\n",
      "Obtaining file:///root/yolov8-sd\n",
      "Requirement already satisfied: matplotlib>=3.2.2 in /usr/local/lib/python3.8/site-packages (from ultralytics==8.0.96) (3.7.1)\n",
      "Requirement already satisfied: opencv-python-headless>=4.6.0 in /usr/local/lib/python3.8/site-packages (from ultralytics==8.0.96) (4.7.0.72)\n",
      "Requirement already satisfied: Pillow>=7.1.2 in /usr/local/lib/python3.8/site-packages (from ultralytics==8.0.96) (9.5.0)\n",
      "Requirement already satisfied: PyYAML>=5.3.1 in /usr/local/lib/python3.8/site-packages (from ultralytics==8.0.96) (5.4.1)\n",
      "Requirement already satisfied: requests>=2.23.0 in /usr/local/lib/python3.8/site-packages (from ultralytics==8.0.96) (2.28.2)\n",
      "Requirement already satisfied: scipy>=1.4.1 in /usr/local/lib/python3.8/site-packages (from ultralytics==8.0.96) (1.9.1)\n",
      "Requirement already satisfied: torch>=1.7.0 in /usr/local/lib/python3.8/site-packages (from ultralytics==8.0.96) (2.0.1)\n",
      "Requirement already satisfied: torchvision>=0.8.1 in /usr/local/lib/python3.8/site-packages (from ultralytics==8.0.96) (0.15.2)\n",
      "Requirement already satisfied: tqdm>=4.64.0 in /usr/local/lib/python3.8/site-packages (from ultralytics==8.0.96) (4.65.0)\n",
      "Requirement already satisfied: pandas>=1.1.4 in /usr/local/lib/python3.8/site-packages (from ultralytics==8.0.96) (2.0.1)\n",
      "Requirement already satisfied: seaborn>=0.11.0 in /usr/local/lib/python3.8/site-packages (from ultralytics==8.0.96) (0.12.2)\n",
      "Requirement already satisfied: psutil~=5.9.5 in /usr/local/lib/python3.8/site-packages (from ultralytics==8.0.96) (5.9.5)\n",
      "Requirement already satisfied: thop>=0.1.1 in /usr/local/lib/python3.8/site-packages (from ultralytics==8.0.96) (0.1.1.post2209072238)\n",
      "Requirement already satisfied: numpy~=1.24.3 in /usr/local/lib/python3.8/site-packages (from ultralytics==8.0.96) (1.24.3)\n",
      "Requirement already satisfied: setuptools~=65.5.1 in /usr/local/lib/python3.8/site-packages (from ultralytics==8.0.96) (65.5.1)\n",
      "Requirement already satisfied: imgaug~=0.4.0 in /usr/local/lib/python3.8/site-packages (from ultralytics==8.0.96) (0.4.0)\n",
      "Requirement already satisfied: scikit-learn~=1.2.2 in /usr/local/lib/python3.8/site-packages (from ultralytics==8.0.96) (1.2.2)\n",
      "Collecting wandb\n",
      "  Downloading wandb-0.15.2-py3-none-any.whl (2.0 MB)\n",
      "\u001B[K     |████████████████████████████████| 2.0 MB 25.5 MB/s eta 0:00:01\n",
      "\u001B[?25hRequirement already satisfied: sentry_sdk in /usr/local/lib/python3.8/site-packages (from ultralytics==8.0.96) (1.23.0)\n",
      "Requirement already satisfied: scikit-image>=0.14.2 in /usr/local/lib/python3.8/site-packages (from imgaug~=0.4.0->ultralytics==8.0.96) (0.20.0)\n",
      "Requirement already satisfied: imageio in /usr/local/lib/python3.8/site-packages (from imgaug~=0.4.0->ultralytics==8.0.96) (2.28.1)\n",
      "Requirement already satisfied: Shapely in /usr/local/lib/python3.8/site-packages (from imgaug~=0.4.0->ultralytics==8.0.96) (2.0.1)\n",
      "Requirement already satisfied: six in /usr/local/lib/python3.8/site-packages (from imgaug~=0.4.0->ultralytics==8.0.96) (1.16.0)\n",
      "Requirement already satisfied: opencv-python in /usr/local/lib/python3.8/site-packages (from imgaug~=0.4.0->ultralytics==8.0.96) (4.7.0.72)\n",
      "Requirement already satisfied: fonttools>=4.22.0 in /usr/local/lib/python3.8/site-packages (from matplotlib>=3.2.2->ultralytics==8.0.96) (4.39.4)\n",
      "Requirement already satisfied: packaging>=20.0 in /usr/local/lib/python3.8/site-packages (from matplotlib>=3.2.2->ultralytics==8.0.96) (21.3)\n",
      "Requirement already satisfied: kiwisolver>=1.0.1 in /usr/local/lib/python3.8/site-packages (from matplotlib>=3.2.2->ultralytics==8.0.96) (1.4.4)\n",
      "Requirement already satisfied: pyparsing>=2.3.1 in /usr/local/lib/python3.8/site-packages (from matplotlib>=3.2.2->ultralytics==8.0.96) (3.0.9)\n",
      "Requirement already satisfied: python-dateutil>=2.7 in /usr/local/lib/python3.8/site-packages (from matplotlib>=3.2.2->ultralytics==8.0.96) (2.8.2)\n",
      "Requirement already satisfied: cycler>=0.10 in /usr/local/lib/python3.8/site-packages (from matplotlib>=3.2.2->ultralytics==8.0.96) (0.11.0)\n",
      "Requirement already satisfied: contourpy>=1.0.1 in /usr/local/lib/python3.8/site-packages (from matplotlib>=3.2.2->ultralytics==8.0.96) (1.0.7)\n",
      "Requirement already satisfied: importlib-resources>=3.2.0 in /usr/local/lib/python3.8/site-packages (from matplotlib>=3.2.2->ultralytics==8.0.96) (5.12.0)\n",
      "Requirement already satisfied: zipp>=3.1.0 in /usr/local/lib/python3.8/site-packages (from importlib-resources>=3.2.0->matplotlib>=3.2.2->ultralytics==8.0.96) (3.15.0)\n",
      "Requirement already satisfied: pytz>=2020.1 in /usr/local/lib/python3.8/site-packages (from pandas>=1.1.4->ultralytics==8.0.96) (2023.3)\n",
      "Requirement already satisfied: tzdata>=2022.1 in /usr/local/lib/python3.8/site-packages (from pandas>=1.1.4->ultralytics==8.0.96) (2023.3)\n",
      "Requirement already satisfied: urllib3<1.27,>=1.21.1 in /usr/local/lib/python3.8/site-packages (from requests>=2.23.0->ultralytics==8.0.96) (1.26.15)\n",
      "Requirement already satisfied: certifi>=2017.4.17 in /usr/local/lib/python3.8/site-packages (from requests>=2.23.0->ultralytics==8.0.96) (2022.12.7)\n",
      "Requirement already satisfied: idna<4,>=2.5 in /usr/local/lib/python3.8/site-packages (from requests>=2.23.0->ultralytics==8.0.96) (3.4)\n",
      "Requirement already satisfied: charset-normalizer<4,>=2 in /usr/local/lib/python3.8/site-packages (from requests>=2.23.0->ultralytics==8.0.96) (3.1.0)\n",
      "Requirement already satisfied: lazy_loader>=0.1 in /usr/local/lib/python3.8/site-packages (from scikit-image>=0.14.2->imgaug~=0.4.0->ultralytics==8.0.96) (0.2)\n",
      "Requirement already satisfied: PyWavelets>=1.1.1 in /usr/local/lib/python3.8/site-packages (from scikit-image>=0.14.2->imgaug~=0.4.0->ultralytics==8.0.96) (1.4.1)\n",
      "Requirement already satisfied: tifffile>=2019.7.26 in /usr/local/lib/python3.8/site-packages (from scikit-image>=0.14.2->imgaug~=0.4.0->ultralytics==8.0.96) (2023.4.12)\n",
      "Requirement already satisfied: networkx>=2.8 in /usr/local/lib/python3.8/site-packages (from scikit-image>=0.14.2->imgaug~=0.4.0->ultralytics==8.0.96) (3.1)\n",
      "Requirement already satisfied: joblib>=1.1.1 in /usr/local/lib/python3.8/site-packages (from scikit-learn~=1.2.2->ultralytics==8.0.96) (1.2.0)\n",
      "Requirement already satisfied: threadpoolctl>=2.0.0 in /usr/local/lib/python3.8/site-packages (from scikit-learn~=1.2.2->ultralytics==8.0.96) (3.1.0)\n",
      "Requirement already satisfied: nvidia-cufft-cu11==10.9.0.58 in /usr/local/lib/python3.8/site-packages (from torch>=1.7.0->ultralytics==8.0.96) (10.9.0.58)\n",
      "Requirement already satisfied: nvidia-nvtx-cu11==11.7.91 in /usr/local/lib/python3.8/site-packages (from torch>=1.7.0->ultralytics==8.0.96) (11.7.91)\n",
      "Requirement already satisfied: sympy in /usr/local/lib/python3.8/site-packages (from torch>=1.7.0->ultralytics==8.0.96) (1.12)\n",
      "Requirement already satisfied: nvidia-cusparse-cu11==11.7.4.91 in /usr/local/lib/python3.8/site-packages (from torch>=1.7.0->ultralytics==8.0.96) (11.7.4.91)\n",
      "Requirement already satisfied: nvidia-cusolver-cu11==11.4.0.1 in /usr/local/lib/python3.8/site-packages (from torch>=1.7.0->ultralytics==8.0.96) (11.4.0.1)\n",
      "Requirement already satisfied: jinja2 in /usr/local/lib/python3.8/site-packages (from torch>=1.7.0->ultralytics==8.0.96) (3.1.2)\n",
      "Requirement already satisfied: nvidia-cuda-runtime-cu11==11.7.99 in /usr/local/lib/python3.8/site-packages (from torch>=1.7.0->ultralytics==8.0.96) (11.7.99)\n",
      "Requirement already satisfied: nvidia-cuda-cupti-cu11==11.7.101 in /usr/local/lib/python3.8/site-packages (from torch>=1.7.0->ultralytics==8.0.96) (11.7.101)\n",
      "Requirement already satisfied: nvidia-cudnn-cu11==8.5.0.96 in /usr/local/lib/python3.8/site-packages (from torch>=1.7.0->ultralytics==8.0.96) (8.5.0.96)\n",
      "Requirement already satisfied: nvidia-cublas-cu11==11.10.3.66 in /usr/local/lib/python3.8/site-packages (from torch>=1.7.0->ultralytics==8.0.96) (11.10.3.66)\n",
      "Requirement already satisfied: nvidia-curand-cu11==10.2.10.91 in /usr/local/lib/python3.8/site-packages (from torch>=1.7.0->ultralytics==8.0.96) (10.2.10.91)\n",
      "Requirement already satisfied: nvidia-nccl-cu11==2.14.3 in /usr/local/lib/python3.8/site-packages (from torch>=1.7.0->ultralytics==8.0.96) (2.14.3)\n",
      "Requirement already satisfied: nvidia-cuda-nvrtc-cu11==11.7.99 in /usr/local/lib/python3.8/site-packages (from torch>=1.7.0->ultralytics==8.0.96) (11.7.99)\n",
      "Requirement already satisfied: filelock in /usr/local/lib/python3.8/site-packages (from torch>=1.7.0->ultralytics==8.0.96) (3.12.0)\n",
      "Requirement already satisfied: triton==2.0.0 in /usr/local/lib/python3.8/site-packages (from torch>=1.7.0->ultralytics==8.0.96) (2.0.0)\n",
      "Requirement already satisfied: typing-extensions in /usr/local/lib/python3.8/site-packages (from torch>=1.7.0->ultralytics==8.0.96) (4.5.0)\n",
      "Requirement already satisfied: wheel in /usr/local/lib/python3.8/site-packages (from nvidia-cublas-cu11==11.10.3.66->torch>=1.7.0->ultralytics==8.0.96) (0.40.0)\n",
      "Requirement already satisfied: cmake in /usr/local/lib/python3.8/site-packages (from triton==2.0.0->torch>=1.7.0->ultralytics==8.0.96) (3.26.3)\n",
      "Requirement already satisfied: lit in /usr/local/lib/python3.8/site-packages (from triton==2.0.0->torch>=1.7.0->ultralytics==8.0.96) (16.0.3)\n",
      "Requirement already satisfied: MarkupSafe>=2.0 in /usr/local/lib/python3.8/site-packages (from jinja2->torch>=1.7.0->ultralytics==8.0.96) (2.1.2)\n",
      "Requirement already satisfied: mpmath>=0.19 in /usr/local/lib/python3.8/site-packages (from sympy->torch>=1.7.0->ultralytics==8.0.96) (1.3.0)\n",
      "Collecting GitPython!=3.1.29,>=1.0.0\n",
      "  Downloading GitPython-3.1.31-py3-none-any.whl (184 kB)\n",
      "\u001B[K     |████████████████████████████████| 184 kB 110.9 MB/s eta 0:00:01\n",
      "\u001B[?25hCollecting appdirs>=1.4.3\n",
      "  Downloading appdirs-1.4.4-py2.py3-none-any.whl (9.6 kB)\n",
      "Collecting protobuf!=4.21.0,<5,>=3.12.0\n",
      "  Downloading protobuf-4.23.0-cp37-abi3-manylinux2014_x86_64.whl (304 kB)\n",
      "\u001B[K     |████████████████████████████████| 304 kB 100.7 MB/s eta 0:00:01\n",
      "\u001B[?25hCollecting pathtools\n",
      "  Downloading pathtools-0.1.2.tar.gz (11 kB)\n",
      "Requirement already satisfied: Click!=8.0.0,>=7.0 in /usr/local/lib/python3.8/site-packages (from wandb->ultralytics==8.0.96) (8.1.3)\n",
      "Collecting setproctitle\n",
      "  Downloading setproctitle-1.3.2-cp38-cp38-manylinux_2_5_x86_64.manylinux1_x86_64.manylinux_2_17_x86_64.manylinux2014_x86_64.whl (31 kB)\n",
      "Collecting docker-pycreds>=0.4.0\n",
      "  Downloading docker_pycreds-0.4.0-py2.py3-none-any.whl (9.0 kB)\n",
      "Collecting gitdb<5,>=4.0.1\n",
      "  Downloading gitdb-4.0.10-py3-none-any.whl (62 kB)\n",
      "\u001B[K     |████████████████████████████████| 62 kB 53.2 MB/s eta 0:00:01\n",
      "\u001B[?25hCollecting smmap<6,>=3.0.1\n",
      "  Downloading smmap-5.0.0-py3-none-any.whl (24 kB)\n",
      "Building wheels for collected packages: pathtools\n",
      "  Building wheel for pathtools (setup.py) ... \u001B[?25ldone\n",
      "\u001B[?25h  Created wheel for pathtools: filename=pathtools-0.1.2-py3-none-any.whl size=8791 sha256=3e7c6c3ca0896ee1b050f2b2a07952a8ddba36b7bc3e7f0c72b0cd69f1ed6365\n",
      "  Stored in directory: /tmp/pip-ephem-wheel-cache-a9op2j9j/wheels/4c/8e/7e/72fbc243e1aeecae64a96875432e70d4e92f3d2d18123be004\n",
      "Successfully built pathtools\n",
      "Installing collected packages: smmap, gitdb, setproctitle, protobuf, pathtools, GitPython, docker-pycreds, appdirs, wandb, ultralytics\n",
      "  Attempting uninstall: ultralytics\n",
      "    Found existing installation: ultralytics 8.0.96\n",
      "    Uninstalling ultralytics-8.0.96:\n",
      "      Successfully uninstalled ultralytics-8.0.96\n",
      "  Running setup.py develop for ultralytics\n",
      "Successfully installed GitPython-3.1.31 appdirs-1.4.4 docker-pycreds-0.4.0 gitdb-4.0.10 pathtools-0.1.2 protobuf-4.23.0 setproctitle-1.3.2 smmap-5.0.0 ultralytics-8.0.96 wandb-0.15.2\n",
      "\u001B[33mWARNING: Running pip as the 'root' user can result in broken permissions and conflicting behaviour with the system package manager. It is recommended to use a virtual environment instead: https://pip.pypa.io/warnings/venv\u001B[0m\n",
      "\u001B[33mWARNING: You are using pip version 21.2.4; however, version 23.1.2 is available.\n",
      "You should consider upgrading via the '/usr/local/bin/python -m pip install --upgrade pip' command.\u001B[0m\n"
     ]
    }
   ],
   "source": [
    "!pip install -e ."
   ]
  },
  {
   "cell_type": "code",
   "execution_count": 1,
   "id": "4e31535a-cdea-4619-b51b-7d164fe707a2",
   "metadata": {
    "ExecuteTime": {
     "end_time": "2023-05-15T16:00:33.754854Z",
     "start_time": "2023-05-15T16:00:33.752056Z"
    },
    "scrolled": true,
    "tags": []
   },
   "outputs": [
    {
     "data": {
      "text/plain": [
       "'/usr/local/bin/python'"
      ]
     },
     "execution_count": 1,
     "metadata": {},
     "output_type": "execute_result"
    }
   ],
   "source": [
    "import sys\n",
    "sys.executable"
   ]
  },
  {
   "cell_type": "markdown",
   "id": "c4bd17dd-f83c-4c84-a7a7-f2106f6c4724",
   "metadata": {},
   "source": [
    "## training"
   ]
  },
  {
   "cell_type": "code",
   "execution_count": null,
   "id": "f8eb4961-4241-4ed7-b87e-5ce6afbfcedf",
   "metadata": {
    "ExecuteTime": {
     "end_time": "2023-05-10T16:01:35.669709Z",
     "start_time": "2023-05-10T15:57:11.116508Z"
    },
    "collapsed": false,
    "jupyter": {
     "outputs_hidden": false
    },
    "scrolled": true,
    "tags": []
   },
   "outputs": [
    {
     "name": "stderr",
     "output_type": "stream",
     "text": [
      "New https://pypi.org/project/ultralytics/8.0.103 available 😃 Update with 'pip install -U ultralytics'\n",
      "Ultralytics YOLOv8.0.96 🚀 Python-3.8.12 torch-2.0.1+cu117 CUDA:0 (Tesla T4, 15110MiB)\n",
      "\u001B[34m\u001B[1myolo/engine/trainer: \u001B[0mtask=detect, mode=train, model=yolov5n6u.pt, data=element-spag-1280.yaml, epochs=1000, patience=0, batch=27, imgsz=1280, save=True, save_period=-1, cache=False, device=cuda:0, workers=8, project=YOLOv5, name=None, exist_ok=False, pretrained=False, optimizer=SGD, verbose=True, seed=0, deterministic=True, single_cls=False, rect=False, cos_lr=False, close_mosaic=0, resume=False, amp=True, overlap_mask=True, mask_ratio=4, dropout=0.0, val=True, split=val, save_json=False, save_hybrid=False, conf=None, iou=0.2, max_det=300, half=False, dnn=False, plots=True, source=None, show=False, save_txt=False, save_conf=False, save_crop=False, show_labels=True, show_conf=True, vid_stride=1, line_width=None, visualize=False, augment=True, agnostic_nms=False, classes=None, retina_masks=False, boxes=True, format=torchscript, keras=False, optimize=False, int8=False, dynamic=False, simplify=False, opset=None, workspace=4, nms=False, lr0=0.01, lrf=0.1, momentum=0.937, weight_decay=0.0005, warmup_epochs=3.0, warmup_momentum=0.8, warmup_bias_lr=0.1, box=0.05, cls=0.3, dfl=1.5, pose=12.0, kobj=1.0, label_smoothing=0.0, nbs=64, hsv_h=0.1, hsv_s=0.7, hsv_v=0.4, degrees=15, translate=0.1, scale=0.5, shear=0.05, perspective=0.00035, flipud=0.5, fliplr=0.5, mosaic=0.5, mixup=0.15, copy_paste=0.1, cfg=None, v5loader=True, tracker=botsort.yaml, save_dir=YOLOv5/train8\n",
      "Overriding model.yaml nc=80 with nc=1\n",
      "\n",
      "                   from  n    params  module                                       arguments                     \n",
      "  0                  -1  1      1760  ultralytics.nn.modules.Conv                  [3, 16, 6, 2, 2]              \n",
      "  1                  -1  1      4672  ultralytics.nn.modules.Conv                  [16, 32, 3, 2]                \n",
      "  2                  -1  1      4800  ultralytics.nn.modules.C3                    [32, 32, 1]                   \n",
      "  3                  -1  1     18560  ultralytics.nn.modules.Conv                  [32, 64, 3, 2]                \n",
      "  4                  -1  2     29184  ultralytics.nn.modules.C3                    [64, 64, 2]                   \n",
      "  5                  -1  1     73984  ultralytics.nn.modules.Conv                  [64, 128, 3, 2]               \n",
      "  6                  -1  3    156928  ultralytics.nn.modules.C3                    [128, 128, 3]                 \n",
      "  7                  -1  1    221568  ultralytics.nn.modules.Conv                  [128, 192, 3, 2]              \n",
      "  8                  -1  1    167040  ultralytics.nn.modules.C3                    [192, 192, 1]                 \n",
      "  9                  -1  1    442880  ultralytics.nn.modules.Conv                  [192, 256, 3, 2]              \n",
      " 10                  -1  1    296448  ultralytics.nn.modules.C3                    [256, 256, 1]                 \n",
      " 11                  -1  1    164608  ultralytics.nn.modules.SPPF                  [256, 256, 5]                 \n",
      " 12                  -1  1     49536  ultralytics.nn.modules.Conv                  [256, 192, 1, 1]              \n",
      " 13                  -1  1         0  torch.nn.modules.upsampling.Upsample         [None, 2, 'nearest']          \n",
      " 14             [-1, 8]  1         0  ultralytics.nn.modules.Concat                [1]                           \n",
      " 15                  -1  1    203904  ultralytics.nn.modules.C3                    [384, 192, 1, False]          \n",
      " 16                  -1  1     24832  ultralytics.nn.modules.Conv                  [192, 128, 1, 1]              \n",
      " 17                  -1  1         0  torch.nn.modules.upsampling.Upsample         [None, 2, 'nearest']          \n",
      " 18             [-1, 6]  1         0  ultralytics.nn.modules.Concat                [1]                           \n",
      " 19                  -1  1     90880  ultralytics.nn.modules.C3                    [256, 128, 1, False]          \n",
      " 20                  -1  1      8320  ultralytics.nn.modules.Conv                  [128, 64, 1, 1]               \n",
      " 21                  -1  1         0  torch.nn.modules.upsampling.Upsample         [None, 2, 'nearest']          \n",
      " 22             [-1, 4]  1         0  ultralytics.nn.modules.Concat                [1]                           \n",
      " 23                  -1  1     22912  ultralytics.nn.modules.C3                    [128, 64, 1, False]           \n",
      " 24                  -1  1     36992  ultralytics.nn.modules.Conv                  [64, 64, 3, 2]                \n",
      " 25            [-1, 20]  1         0  ultralytics.nn.modules.Concat                [1]                           \n",
      " 26                  -1  1     74496  ultralytics.nn.modules.C3                    [128, 128, 1, False]          \n",
      " 27                  -1  1    147712  ultralytics.nn.modules.Conv                  [128, 128, 3, 2]              \n",
      " 28            [-1, 16]  1         0  ultralytics.nn.modules.Concat                [1]                           \n",
      " 29                  -1  1    179328  ultralytics.nn.modules.C3                    [256, 192, 1, False]          \n",
      " 30                  -1  1    332160  ultralytics.nn.modules.Conv                  [192, 192, 3, 2]              \n",
      " 31            [-1, 12]  1         0  ultralytics.nn.modules.Concat                [1]                           \n",
      " 32                  -1  1    329216  ultralytics.nn.modules.C3                    [384, 256, 1, False]          \n",
      " 33    [23, 26, 29, 32]  1   1051156  ultralytics.nn.modules.Detect                [1, [64, 128, 192, 256]]      \n",
      "YOLOv5n6u summary: 344 layers, 4133876 parameters, 4133860 gradients, 7.3 GFLOPs\n",
      "\n",
      "Transferred 515/563 items from pretrained weights\n",
      "Failed to detect the name of this notebook, you can set it manually with the WANDB_NOTEBOOK_NAME environment variable to enable code saving.\n",
      "\u001B[34m\u001B[1mwandb\u001B[0m: Currently logged in as: \u001B[33mkanstantsin\u001B[0m. Use \u001B[1m`wandb login --relogin`\u001B[0m to force relogin\n"
     ]
    },
    {
     "data": {
      "text/html": [
       "Tracking run with wandb version 0.15.2"
      ],
      "text/plain": [
       "<IPython.core.display.HTML object>"
      ]
     },
     "metadata": {},
     "output_type": "display_data"
    },
    {
     "data": {
      "text/html": [
       "Run data is saved locally in <code>/root/yolov8-sd/notebooks/wandb/run-20230516_202749-dck3almu</code>"
      ],
      "text/plain": [
       "<IPython.core.display.HTML object>"
      ]
     },
     "metadata": {},
     "output_type": "display_data"
    },
    {
     "data": {
      "text/html": [
       "Syncing run <strong><a href='https://wandb.ai/kanstantsin/YOLOv5/runs/dck3almu' target=\"_blank\">vivid-hill-289</a></strong> to <a href='https://wandb.ai/kanstantsin/YOLOv5' target=\"_blank\">Weights & Biases</a> (<a href='https://wandb.me/run' target=\"_blank\">docs</a>)<br/>"
      ],
      "text/plain": [
       "<IPython.core.display.HTML object>"
      ]
     },
     "metadata": {},
     "output_type": "display_data"
    },
    {
     "data": {
      "text/html": [
       " View project at <a href='https://wandb.ai/kanstantsin/YOLOv5' target=\"_blank\">https://wandb.ai/kanstantsin/YOLOv5</a>"
      ],
      "text/plain": [
       "<IPython.core.display.HTML object>"
      ]
     },
     "metadata": {},
     "output_type": "display_data"
    },
    {
     "data": {
      "text/html": [
       " View run at <a href='https://wandb.ai/kanstantsin/YOLOv5/runs/dck3almu' target=\"_blank\">https://wandb.ai/kanstantsin/YOLOv5/runs/dck3almu</a>"
      ],
      "text/plain": [
       "<IPython.core.display.HTML object>"
      ]
     },
     "metadata": {},
     "output_type": "display_data"
    },
    {
     "name": "stderr",
     "output_type": "stream",
     "text": [
      "\u001B[34m\u001B[1mAMP: \u001B[0mrunning Automatic Mixed Precision (AMP) checks with YOLOv8n...\n",
      "\u001B[34m\u001B[1mAMP: \u001B[0mchecks passed ✅\n",
      "\u001B[34m\u001B[1moptimizer:\u001B[0m SGD(lr=0.01) with parameter groups 91 weight(decay=0.0), 100 weight(decay=0.000421875), 99 bias\n",
      "WARNING ⚠️ 'v5loader' feature is deprecated and will be removed soon. You can train using the default YOLOv8 dataloader instead, no argument is needed.\n"
     ]
    },
    {
     "name": "stdout",
     "output_type": "stream",
     "text": [
      "call\n"
     ]
    },
    {
     "name": "stderr",
     "output_type": "stream",
     "text": [
      "\u001B[34m\u001B[1mtrain: \u001B[0mScanning /root/datasets/element-spag-yolo-1280-jpg/labels/train.cache... 679 images, 349 backgrounds, 0 corrupt: 100%|██████████| 1028/1028 [00:00<?, ?it/s]\n",
      "WARNING ⚠️ 'v5loader' feature is deprecated and will be removed soon. You can train using the default YOLOv8 dataloader instead, no argument is needed.\n"
     ]
    },
    {
     "name": "stdout",
     "output_type": "stream",
     "text": [
      "call\n"
     ]
    },
    {
     "name": "stderr",
     "output_type": "stream",
     "text": [
      "\u001B[34m\u001B[1mval: \u001B[0mScanning /root/datasets/element-spag-yolo-1280-jpg/labels/val.cache... 315 images, 203 backgrounds, 0 corrupt: 100%|██████████| 518/518 [00:00<?, ?it/s]\n",
      "Image sizes 1280 train, 1280 val\n",
      "Using 4 dataloader workers\n",
      "Logging results to \u001B[1mYOLOv5/train8\u001B[0m\n",
      "Starting training for 1000 epochs...\n",
      "\n",
      "      Epoch    GPU_mem   box_loss   cls_loss   dfl_loss  Instances       Size\n",
      "     1/1000      14.1G     0.0138      3.685      2.076          1       1280: 100%|██████████| 39/39 [01:48<00:00,  2.77s/it]\n",
      "                 Class     Images  Instances      Box(P          R      mAP50  mAP50-95): 100%|██████████| 10/10 [00:17<00:00,  1.72s/it]\n",
      "                   all        518        409     0.0139      0.504      0.211     0.0491\n"
     ]
    },
    {
     "name": "stdout",
     "output_type": "stream",
     "text": [
      "Validation cl_map score: 0.9026044321956922\n"
     ]
    },
    {
     "name": "stderr",
     "output_type": "stream",
     "text": [
      "\n",
      "      Epoch    GPU_mem   box_loss   cls_loss   dfl_loss  Instances       Size\n",
      "     2/1000      13.6G    0.01266      1.708      1.908         31       1280:  56%|█████▋    | 22/39 [00:44<00:41,  2.47s/it]"
     ]
    }
   ],
   "source": [
    "from ultralytics import YOLO\n",
    "\n",
    "# Load a model\n",
    "# model :  YOLO(\"yolov8n.yaml\")  # build a new model from scratch\n",
    "model =  YOLO(\"yolov5n6u.pt\")  # load a pretrained model (recommended for training)\n",
    "\n",
    "# Use the model\n",
    "args = {'lr0': 0.01,\n",
    "        'lrf': 0.1,\n",
    "        'momentum': 0.937,\n",
    "        'weight_decay': 0.0005,\n",
    "        'warmup_epochs': 3.0,\n",
    "        'warmup_momentum': 0.8,\n",
    "        'warmup_bias_lr': 0.1,\n",
    "        'box': 0.05,\n",
    "        'cls': 0.3,\n",
    "        # 'cls_pw': 1.0,\n",
    "        # 'obj': 0.7,\n",
    "        # 'obj_pw': 1.0,\n",
    "        'iou': 0.20,  # iou_t -> iou\n",
    "        # 'anchor_t': 10.0,\n",
    "        # 'fl_gamma': 0.0,\n",
    "        'hsv_h': 0.1,\n",
    "        'hsv_s': 0.7,\n",
    "        'hsv_v': 0.4,\n",
    "        'degrees': 15,\n",
    "        'translate': 0.1,\n",
    "        'scale': 0.5,\n",
    "        'shear': 0.05,\n",
    "        'perspective': 0.00035,\n",
    "        'flipud': 0.5,\n",
    "        'fliplr': 0.5,\n",
    "        'mosaic': 0.5,\n",
    "        'mixup': 0.15,\n",
    "        'copy_paste': 0.1}\n",
    "\n",
    "# TODO: 1280px\n",
    "model.train(epochs=1000, batch=27, patience=0, imgsz=1280, data='element-spag-1280.yaml', device='cuda:0', augment=True, v5loader=True, project='YOLOv5', **args)  # train the model\n",
    "metrics = model.val(augment=False)  # evaluate model performance on the validation set\n",
    "# results :  model(\"https://ultralytics.com/images/bus.jpg\")  # predict on an image\n",
    "# success :  model.export(format=\"onnx\")  # export the model to ONNX format"
   ]
  },
  {
   "cell_type": "code",
   "execution_count": 13,
   "id": "b2b5556c-fae5-4b07-ab4d-4bfa28af29d6",
   "metadata": {
    "tags": []
   },
   "outputs": [
    {
     "name": "stdout",
     "output_type": "stream",
     "text": [
      "Argoverse.yaml\t      SKU-110K.yaml   coco.yaml\t\tcoco8-seg.yaml\n",
      "GlobalWheat2020.yaml  VOC.yaml\t      coco128-seg.yaml\tcoco8.yaml\n",
      "ImageNet.yaml\t      VisDrone.yaml   coco128.yaml\telement-spag-1280.yaml\n",
      "Objects365.yaml       coco-pose.yaml  coco8-pose.yaml\txView.yaml\n"
     ]
    }
   ],
   "source": [
    "!ls ultralytics/datasets/"
   ]
  },
  {
   "cell_type": "code",
   "execution_count": 18,
   "id": "0f1301ee-340c-41d6-9a06-8aad90f4f089",
   "metadata": {
    "tags": []
   },
   "outputs": [
    {
     "name": "stdout",
     "output_type": "stream",
     "text": [
      "Printing '\u001B[1m\u001B[30m/root/.config/Ultralytics/settings.yaml\u001B[0m'\n",
      "\n",
      "datasets_dir: /home/sagemaker-user/datasets\n",
      "weights_dir: /home/sagemaker-user/yolov8-sd/weights\n",
      "runs_dir: /home/sagemaker-user/yolov8-sd/runs\n",
      "uuid: ff5e16ec3a0c9652cc303b1a9d4b190b49b048ebe2556d47a2a7b52f35bcd17c\n",
      "sync: true\n",
      "api_key: ''\n",
      "settings_version: 0.0.3\n",
      "\n"
     ]
    }
   ],
   "source": [
    "!ultralytics settings"
   ]
  },
  {
   "cell_type": "code",
   "execution_count": 2,
   "id": "65d1cd1f-fd39-4c08-b8d0-c081fb95fe8a",
   "metadata": {
    "tags": []
   },
   "outputs": [
    {
     "data": {
      "text/plain": [
       "True"
      ]
     },
     "execution_count": 2,
     "metadata": {},
     "output_type": "execute_result"
    }
   ],
   "source": [
    "import torch \n",
    "\n",
    "torch.cuda.is_available()"
   ]
  },
  {
   "cell_type": "code",
   "execution_count": 1,
   "id": "fedab42b-51ee-475d-9b49-30e6f7b3749d",
   "metadata": {
    "ExecuteTime": {
     "start_time": "2023-05-24T11:05:18.622409Z",
     "end_time": "2023-05-24T11:05:19.471241Z"
    }
   },
   "outputs": [
    {
     "name": "stdout",
     "output_type": "stream",
     "text": [
      "2.0.1\n"
     ]
    }
   ],
   "source": [
    "import torch\n",
    "\n",
    "print(torch.__version__)"
   ]
  },
  {
   "cell_type": "code",
   "execution_count": 1,
   "outputs": [
    {
     "name": "stdout",
     "output_type": "stream",
     "text": [
      "anyio==3.6.2\r\n",
      "appdirs==1.4.4\r\n",
      "appnope==0.1.3\r\n",
      "argon2-cffi==21.3.0\r\n",
      "argon2-cffi-bindings==21.2.0\r\n",
      "arrow==1.2.3\r\n",
      "asttokens==2.2.1\r\n",
      "attrs==23.1.0\r\n",
      "backcall==0.2.0\r\n",
      "beautifulsoup4==4.12.2\r\n",
      "bleach==6.0.0\r\n",
      "certifi==2023.5.7\r\n",
      "cffi==1.15.1\r\n",
      "charset-normalizer==3.1.0\r\n",
      "click==8.1.3\r\n",
      "comm==0.1.3\r\n",
      "contourpy==1.0.7\r\n",
      "cycler==0.11.0\r\n",
      "debugpy==1.6.7\r\n",
      "decorator==5.1.1\r\n",
      "defusedxml==0.7.1\r\n",
      "docker-pycreds==0.4.0\r\n",
      "executing==1.2.0\r\n",
      "fastjsonschema==2.16.3\r\n",
      "filelock==3.12.0\r\n",
      "fonttools==4.39.3\r\n",
      "fqdn==1.5.1\r\n",
      "gitdb==4.0.10\r\n",
      "GitPython==3.1.31\r\n",
      "idna==3.4\r\n",
      "imageio==2.28.1\r\n",
      "imgaug==0.4.0\r\n",
      "importlib-metadata==6.6.0\r\n",
      "importlib-resources==5.12.0\r\n",
      "ipykernel==6.23.0\r\n",
      "ipython==8.13.2\r\n",
      "ipython-genutils==0.2.0\r\n",
      "ipywidgets==8.0.6\r\n",
      "isoduration==20.11.0\r\n",
      "jedi==0.18.2\r\n",
      "Jinja2==3.1.2\r\n",
      "joblib==1.2.0\r\n",
      "jsonpointer==2.3\r\n",
      "jsonschema==4.17.3\r\n",
      "jupyter==1.0.0\r\n",
      "jupyter-console==6.6.3\r\n",
      "jupyter-events==0.6.3\r\n",
      "jupyter_client==8.2.0\r\n",
      "jupyter_core==5.3.0\r\n",
      "jupyter_server==2.5.0\r\n",
      "jupyter_server_terminals==0.4.4\r\n",
      "jupyterlab-pygments==0.2.2\r\n",
      "jupyterlab-widgets==3.0.7\r\n",
      "kiwisolver==1.4.4\r\n",
      "lazy_loader==0.2\r\n",
      "MarkupSafe==2.1.2\r\n",
      "matplotlib==3.7.1\r\n",
      "matplotlib-inline==0.1.6\r\n",
      "mistune==2.0.5\r\n",
      "mpmath==1.3.0\r\n",
      "nbclassic==1.0.0\r\n",
      "nbclient==0.7.4\r\n",
      "nbconvert==7.4.0\r\n",
      "nbformat==5.8.0\r\n",
      "nest-asyncio==1.5.6\r\n",
      "networkx==3.1\r\n",
      "notebook==6.5.4\r\n",
      "notebook_shim==0.2.3\r\n",
      "numpy==1.24.3\r\n",
      "onnx==1.14.0\r\n",
      "opencv-python==4.7.0.72\r\n",
      "packaging==23.1\r\n",
      "pandas==2.0.1\r\n",
      "pandocfilters==1.5.0\r\n",
      "parso==0.8.3\r\n",
      "pathtools==0.1.2\r\n",
      "pexpect==4.8.0\r\n",
      "pickleshare==0.7.5\r\n",
      "Pillow==9.5.0\r\n",
      "platformdirs==3.5.0\r\n",
      "prometheus-client==0.16.0\r\n",
      "prompt-toolkit==3.0.38\r\n",
      "protobuf==4.23.0\r\n",
      "psutil==5.9.5\r\n",
      "ptyprocess==0.7.0\r\n",
      "pure-eval==0.2.2\r\n",
      "pycparser==2.21\r\n",
      "Pygments==2.15.1\r\n",
      "pyparsing==3.0.9\r\n",
      "pyrsistent==0.19.3\r\n",
      "python-dateutil==2.8.2\r\n",
      "python-json-logger==2.0.7\r\n",
      "pytz==2023.3\r\n",
      "PyWavelets==1.4.1\r\n",
      "PyYAML==6.0\r\n",
      "pyzmq==25.0.2\r\n",
      "qtconsole==5.4.3\r\n",
      "QtPy==2.3.1\r\n",
      "requests==2.30.0\r\n",
      "rfc3339-validator==0.1.4\r\n",
      "rfc3986-validator==0.1.1\r\n",
      "scikit-image==0.20.0\r\n",
      "scikit-learn==1.2.2\r\n",
      "scipy==1.9.1\r\n",
      "seaborn==0.12.2\r\n",
      "Send2Trash==1.8.2\r\n",
      "sentry-sdk==1.22.2\r\n",
      "setproctitle==1.3.2\r\n",
      "shapely==2.0.1\r\n",
      "six==1.16.0\r\n",
      "smmap==5.0.0\r\n",
      "sniffio==1.3.0\r\n",
      "soupsieve==2.4.1\r\n",
      "stack-data==0.6.2\r\n",
      "sympy==1.11.1\r\n",
      "terminado==0.17.1\r\n",
      "thop==0.1.1.post2209072238\r\n",
      "threadpoolctl==3.1.0\r\n",
      "tifffile==2023.4.12\r\n",
      "tinycss2==1.2.1\r\n",
      "torch==2.0.1\r\n",
      "torchvision==0.15.2\r\n",
      "tornado==6.3.1\r\n",
      "tqdm==4.65.0\r\n",
      "traitlets==5.9.0\r\n",
      "typing_extensions==4.5.0\r\n",
      "tzdata==2023.3\r\n",
      "ultralytics==8.0.96\r\n",
      "uri-template==1.2.0\r\n",
      "urllib3==1.26.15\r\n",
      "wandb==0.15.2\r\n",
      "wcwidth==0.2.6\r\n",
      "webcolors==1.13\r\n",
      "webencodings==0.5.1\r\n",
      "websocket-client==1.5.1\r\n",
      "widgetsnbextension==4.0.7\r\n",
      "zipp==3.15.0\r\n"
     ]
    }
   ],
   "source": [
    "!python3 -m pip freeze"
   ],
   "metadata": {
    "collapsed": false,
    "ExecuteTime": {
     "start_time": "2023-05-24T11:31:18.007007Z",
     "end_time": "2023-05-24T11:31:18.388876Z"
    }
   }
  },
  {
   "cell_type": "code",
   "execution_count": null,
   "outputs": [],
   "source": [],
   "metadata": {
    "collapsed": false
   }
  }
 ],
 "metadata": {
  "availableInstances": [
   {
    "_defaultOrder": 0,
    "_isFastLaunch": true,
    "category": "General purpose",
    "gpuNum": 0,
    "memoryGiB": 4,
    "name": "ml.t3.medium",
    "vcpuNum": 2
   },
   {
    "_defaultOrder": 1,
    "_isFastLaunch": false,
    "category": "General purpose",
    "gpuNum": 0,
    "memoryGiB": 8,
    "name": "ml.t3.large",
    "vcpuNum": 2
   },
   {
    "_defaultOrder": 2,
    "_isFastLaunch": false,
    "category": "General purpose",
    "gpuNum": 0,
    "memoryGiB": 16,
    "name": "ml.t3.xlarge",
    "vcpuNum": 4
   },
   {
    "_defaultOrder": 3,
    "_isFastLaunch": false,
    "category": "General purpose",
    "gpuNum": 0,
    "memoryGiB": 32,
    "name": "ml.t3.2xlarge",
    "vcpuNum": 8
   },
   {
    "_defaultOrder": 4,
    "_isFastLaunch": true,
    "category": "General purpose",
    "gpuNum": 0,
    "memoryGiB": 8,
    "name": "ml.m5.large",
    "vcpuNum": 2
   },
   {
    "_defaultOrder": 5,
    "_isFastLaunch": false,
    "category": "General purpose",
    "gpuNum": 0,
    "memoryGiB": 16,
    "name": "ml.m5.xlarge",
    "vcpuNum": 4
   },
   {
    "_defaultOrder": 6,
    "_isFastLaunch": false,
    "category": "General purpose",
    "gpuNum": 0,
    "memoryGiB": 32,
    "name": "ml.m5.2xlarge",
    "vcpuNum": 8
   },
   {
    "_defaultOrder": 7,
    "_isFastLaunch": false,
    "category": "General purpose",
    "gpuNum": 0,
    "memoryGiB": 64,
    "name": "ml.m5.4xlarge",
    "vcpuNum": 16
   },
   {
    "_defaultOrder": 8,
    "_isFastLaunch": false,
    "category": "General purpose",
    "gpuNum": 0,
    "memoryGiB": 128,
    "name": "ml.m5.8xlarge",
    "vcpuNum": 32
   },
   {
    "_defaultOrder": 9,
    "_isFastLaunch": false,
    "category": "General purpose",
    "gpuNum": 0,
    "memoryGiB": 192,
    "name": "ml.m5.12xlarge",
    "vcpuNum": 48
   },
   {
    "_defaultOrder": 10,
    "_isFastLaunch": false,
    "category": "General purpose",
    "gpuNum": 0,
    "memoryGiB": 256,
    "name": "ml.m5.16xlarge",
    "vcpuNum": 64
   },
   {
    "_defaultOrder": 11,
    "_isFastLaunch": false,
    "category": "General purpose",
    "gpuNum": 0,
    "memoryGiB": 384,
    "name": "ml.m5.24xlarge",
    "vcpuNum": 96
   },
   {
    "_defaultOrder": 12,
    "_isFastLaunch": false,
    "category": "General purpose",
    "gpuNum": 0,
    "memoryGiB": 8,
    "name": "ml.m5d.large",
    "vcpuNum": 2
   },
   {
    "_defaultOrder": 13,
    "_isFastLaunch": false,
    "category": "General purpose",
    "gpuNum": 0,
    "memoryGiB": 16,
    "name": "ml.m5d.xlarge",
    "vcpuNum": 4
   },
   {
    "_defaultOrder": 14,
    "_isFastLaunch": false,
    "category": "General purpose",
    "gpuNum": 0,
    "memoryGiB": 32,
    "name": "ml.m5d.2xlarge",
    "vcpuNum": 8
   },
   {
    "_defaultOrder": 15,
    "_isFastLaunch": false,
    "category": "General purpose",
    "gpuNum": 0,
    "memoryGiB": 64,
    "name": "ml.m5d.4xlarge",
    "vcpuNum": 16
   },
   {
    "_defaultOrder": 16,
    "_isFastLaunch": false,
    "category": "General purpose",
    "gpuNum": 0,
    "memoryGiB": 128,
    "name": "ml.m5d.8xlarge",
    "vcpuNum": 32
   },
   {
    "_defaultOrder": 17,
    "_isFastLaunch": false,
    "category": "General purpose",
    "gpuNum": 0,
    "memoryGiB": 192,
    "name": "ml.m5d.12xlarge",
    "vcpuNum": 48
   },
   {
    "_defaultOrder": 18,
    "_isFastLaunch": false,
    "category": "General purpose",
    "gpuNum": 0,
    "memoryGiB": 256,
    "name": "ml.m5d.16xlarge",
    "vcpuNum": 64
   },
   {
    "_defaultOrder": 19,
    "_isFastLaunch": false,
    "category": "General purpose",
    "gpuNum": 0,
    "memoryGiB": 384,
    "name": "ml.m5d.24xlarge",
    "vcpuNum": 96
   },
   {
    "_defaultOrder": 20,
    "_isFastLaunch": true,
    "category": "Compute optimized",
    "gpuNum": 0,
    "memoryGiB": 4,
    "name": "ml.c5.large",
    "vcpuNum": 2
   },
   {
    "_defaultOrder": 21,
    "_isFastLaunch": false,
    "category": "Compute optimized",
    "gpuNum": 0,
    "memoryGiB": 8,
    "name": "ml.c5.xlarge",
    "vcpuNum": 4
   },
   {
    "_defaultOrder": 22,
    "_isFastLaunch": false,
    "category": "Compute optimized",
    "gpuNum": 0,
    "memoryGiB": 16,
    "name": "ml.c5.2xlarge",
    "vcpuNum": 8
   },
   {
    "_defaultOrder": 23,
    "_isFastLaunch": false,
    "category": "Compute optimized",
    "gpuNum": 0,
    "memoryGiB": 32,
    "name": "ml.c5.4xlarge",
    "vcpuNum": 16
   },
   {
    "_defaultOrder": 24,
    "_isFastLaunch": false,
    "category": "Compute optimized",
    "gpuNum": 0,
    "memoryGiB": 72,
    "name": "ml.c5.9xlarge",
    "vcpuNum": 36
   },
   {
    "_defaultOrder": 25,
    "_isFastLaunch": false,
    "category": "Compute optimized",
    "gpuNum": 0,
    "memoryGiB": 96,
    "name": "ml.c5.12xlarge",
    "vcpuNum": 48
   },
   {
    "_defaultOrder": 26,
    "_isFastLaunch": false,
    "category": "Compute optimized",
    "gpuNum": 0,
    "memoryGiB": 144,
    "name": "ml.c5.18xlarge",
    "vcpuNum": 72
   },
   {
    "_defaultOrder": 27,
    "_isFastLaunch": false,
    "category": "Compute optimized",
    "gpuNum": 0,
    "memoryGiB": 192,
    "name": "ml.c5.24xlarge",
    "vcpuNum": 96
   },
   {
    "_defaultOrder": 28,
    "_isFastLaunch": true,
    "category": "Accelerated computing",
    "gpuNum": 1,
    "memoryGiB": 16,
    "name": "ml.g4dn.xlarge",
    "vcpuNum": 4
   },
   {
    "_defaultOrder": 29,
    "_isFastLaunch": false,
    "category": "Accelerated computing",
    "gpuNum": 1,
    "memoryGiB": 32,
    "name": "ml.g4dn.2xlarge",
    "vcpuNum": 8
   },
   {
    "_defaultOrder": 30,
    "_isFastLaunch": false,
    "category": "Accelerated computing",
    "gpuNum": 1,
    "memoryGiB": 64,
    "name": "ml.g4dn.4xlarge",
    "vcpuNum": 16
   },
   {
    "_defaultOrder": 31,
    "_isFastLaunch": false,
    "category": "Accelerated computing",
    "gpuNum": 1,
    "memoryGiB": 128,
    "name": "ml.g4dn.8xlarge",
    "vcpuNum": 32
   },
   {
    "_defaultOrder": 32,
    "_isFastLaunch": false,
    "category": "Accelerated computing",
    "gpuNum": 4,
    "memoryGiB": 192,
    "name": "ml.g4dn.12xlarge",
    "vcpuNum": 48
   },
   {
    "_defaultOrder": 33,
    "_isFastLaunch": false,
    "category": "Accelerated computing",
    "gpuNum": 1,
    "memoryGiB": 256,
    "name": "ml.g4dn.16xlarge",
    "vcpuNum": 64
   },
   {
    "_defaultOrder": 34,
    "_isFastLaunch": false,
    "category": "Accelerated computing",
    "gpuNum": 1,
    "memoryGiB": 61,
    "name": "ml.p3.2xlarge",
    "vcpuNum": 8
   },
   {
    "_defaultOrder": 35,
    "_isFastLaunch": false,
    "category": "Accelerated computing",
    "gpuNum": 4,
    "memoryGiB": 244,
    "name": "ml.p3.8xlarge",
    "vcpuNum": 32
   },
   {
    "_defaultOrder": 36,
    "_isFastLaunch": false,
    "category": "Accelerated computing",
    "gpuNum": 8,
    "memoryGiB": 488,
    "name": "ml.p3.16xlarge",
    "vcpuNum": 64
   },
   {
    "_defaultOrder": 37,
    "_isFastLaunch": false,
    "category": "Accelerated computing",
    "gpuNum": 8,
    "memoryGiB": 768,
    "name": "ml.p3dn.24xlarge",
    "vcpuNum": 96
   },
   {
    "_defaultOrder": 38,
    "_isFastLaunch": false,
    "category": "Memory Optimized",
    "gpuNum": 0,
    "memoryGiB": 16,
    "name": "ml.r5.large",
    "vcpuNum": 2
   },
   {
    "_defaultOrder": 39,
    "_isFastLaunch": false,
    "category": "Memory Optimized",
    "gpuNum": 0,
    "memoryGiB": 32,
    "name": "ml.r5.xlarge",
    "vcpuNum": 4
   },
   {
    "_defaultOrder": 40,
    "_isFastLaunch": false,
    "category": "Memory Optimized",
    "gpuNum": 0,
    "memoryGiB": 64,
    "name": "ml.r5.2xlarge",
    "vcpuNum": 8
   },
   {
    "_defaultOrder": 41,
    "_isFastLaunch": false,
    "category": "Memory Optimized",
    "gpuNum": 0,
    "memoryGiB": 128,
    "name": "ml.r5.4xlarge",
    "vcpuNum": 16
   },
   {
    "_defaultOrder": 42,
    "_isFastLaunch": false,
    "category": "Memory Optimized",
    "gpuNum": 0,
    "memoryGiB": 256,
    "name": "ml.r5.8xlarge",
    "vcpuNum": 32
   },
   {
    "_defaultOrder": 43,
    "_isFastLaunch": false,
    "category": "Memory Optimized",
    "gpuNum": 0,
    "memoryGiB": 384,
    "name": "ml.r5.12xlarge",
    "vcpuNum": 48
   },
   {
    "_defaultOrder": 44,
    "_isFastLaunch": false,
    "category": "Memory Optimized",
    "gpuNum": 0,
    "memoryGiB": 512,
    "name": "ml.r5.16xlarge",
    "vcpuNum": 64
   },
   {
    "_defaultOrder": 45,
    "_isFastLaunch": false,
    "category": "Memory Optimized",
    "gpuNum": 0,
    "memoryGiB": 768,
    "name": "ml.r5.24xlarge",
    "vcpuNum": 96
   },
   {
    "_defaultOrder": 46,
    "_isFastLaunch": false,
    "category": "Accelerated computing",
    "gpuNum": 1,
    "memoryGiB": 16,
    "name": "ml.g5.xlarge",
    "vcpuNum": 4
   },
   {
    "_defaultOrder": 47,
    "_isFastLaunch": false,
    "category": "Accelerated computing",
    "gpuNum": 1,
    "memoryGiB": 32,
    "name": "ml.g5.2xlarge",
    "vcpuNum": 8
   },
   {
    "_defaultOrder": 48,
    "_isFastLaunch": false,
    "category": "Accelerated computing",
    "gpuNum": 1,
    "memoryGiB": 64,
    "name": "ml.g5.4xlarge",
    "vcpuNum": 16
   },
   {
    "_defaultOrder": 49,
    "_isFastLaunch": false,
    "category": "Accelerated computing",
    "gpuNum": 1,
    "memoryGiB": 128,
    "name": "ml.g5.8xlarge",
    "vcpuNum": 32
   },
   {
    "_defaultOrder": 50,
    "_isFastLaunch": false,
    "category": "Accelerated computing",
    "gpuNum": 1,
    "memoryGiB": 256,
    "name": "ml.g5.16xlarge",
    "vcpuNum": 64
   },
   {
    "_defaultOrder": 51,
    "_isFastLaunch": false,
    "category": "Accelerated computing",
    "gpuNum": 4,
    "memoryGiB": 192,
    "name": "ml.g5.12xlarge",
    "vcpuNum": 48
   },
   {
    "_defaultOrder": 52,
    "_isFastLaunch": false,
    "category": "Accelerated computing",
    "gpuNum": 4,
    "memoryGiB": 384,
    "name": "ml.g5.24xlarge",
    "vcpuNum": 96
   },
   {
    "_defaultOrder": 53,
    "_isFastLaunch": false,
    "category": "Accelerated computing",
    "gpuNum": 8,
    "memoryGiB": 768,
    "name": "ml.g5.48xlarge",
    "vcpuNum": 192
   }
  ],
  "instance_type": "ml.g4dn.xlarge",
  "kernelspec": {
   "name": "python3",
   "language": "python",
   "display_name": "Python 3 (ipykernel)"
  },
  "language_info": {
   "codemirror_mode": {
    "name": "ipython",
    "version": 3
   },
   "file_extension": ".py",
   "mimetype": "text/x-python",
   "name": "python",
   "nbconvert_exporter": "python",
   "pygments_lexer": "ipython3",
   "version": "3.8.12"
  }
 },
 "nbformat": 4,
 "nbformat_minor": 5
}
